{
 "cells": [
  {
   "cell_type": "markdown",
   "metadata": {
    "collapsed": false
   },
   "source": [
    "# 韶光\n",
    "### “韶光”以抓住**生活的点滴**为创意初心，基于飞桨的深度学习框架，利用生成对抗网络处理运动图像模糊的问题，致力于解锁大众拍摄的“新姿势”，推动AI走进生活的每一个角落。\n",
    "#### *您是否曾有过这样的感受，坐在火车上，明明是靠着窗边，窗外的景象却只能观望，想要记录下来还得大费周章地录制视频，顿感扫兴。。。*\n",
    "\n",
    "#### ***韶光，希望能够帮助到您！***\n",
    "\n",
    "![](https://ai-studio-static-online.cdn.bcebos.com/08e38cea569f4f75b1683c876c9cce02f8bb059c26074ebbb0cae3c8db96e70a)\n",
    "![](https://ai-studio-static-online.cdn.bcebos.com/af9670d6bb3742ed85f8c2826d3bb95d39ae5c55e1ca4419a61870893de4cefd)\n",
    "\n",
    "\n",
    "## 产品体验:\n",
    "+ #### **去模糊功能**（*本篇*  )\n",
    "\t[GitHub：https://github.com/happy-noob/drop_of_life](https://github.com/happy-noob/drop_of_life)\n",
    "+ #### **网页版**(*暂仅开放部分功能，欢迎体验！*)[](http://)\n",
    "+ #### **APP**(*暂未上线*)[]()"
   ]
  },
  {
   "cell_type": "markdown",
   "metadata": {
    "collapsed": false
   },
   "source": [
    "\n",
    "##   模型介绍\n",
    "\n",
    "### **多阶段渐进式图像恢复【Multi-Stage Progressive Image Restoration】**\n",
    "+ 介绍论文：https : //arxiv.org/abs/2102.02808\n",
    "+ 介绍视频：https://www.youtube.com/watch?v=0SMTPiLw5Vw\n",
    "+ 补充文件：https://drive.google.com/file/d/1mbfljawUuFUQN9V5g0Rmw1UdauJdckCu/view\n",
    "\n",
    "#### **模型先用编码解码结构学习情境特征，之后与一个保留局部信息的高分辨率分支融合。每一个阶段，介绍对每个像素的自适应设计，这个设计利用原像素位监督的注意力来调整局部的注意力。这样多阶段结构的一个关键因素是不同阶段的信息交换。为此，当信息不是按照顺序从前阶段交换到后阶段时，提出了个两面方法。但也设置了特征处理块间的侧连接，用来避免任何信息的缺失。这样产生紧密内部连接的多阶段结构叫MPRNet，有很好的性能提升**\n",
    "\n",
    "#### **首先，现有的多阶段技术，要么使用编码解码器(编码阶段有效传播情境信息，但是在保留空间细节这里做的不好)，要么使用single-scale pipeline[61]（空间精度做的很好，但是语义信息不太行） 证明了在多阶段图像修复工作上，同时使用两种结构才能更有效**\n",
    "\n",
    "![](https://ai-studio-static-online.cdn.bcebos.com/0005fdefd0ea48f38a779a1353d70e88b71a852ab5194140a851b990081b0b3e)\n",
    "\n",
    "\n",
    "#### **主要有以下几个部分：**\n",
    "\n",
    "#### **1.  前几个阶段使用了编码解码器来学习多尺度语境信息，最后阶段以图元原尺寸运行，保留细节**\n",
    "\n",
    "![](https://ai-studio-static-online.cdn.bcebos.com/beb17af5b9964233b5801904cffba203ea16f070540f441ab9b5f7319e3df95b)\n",
    "\n",
    "\n",
    "#### **2. 一个有监督的注意力模块（SAM）,在每两个阶段连接处，实现阶段性学习。在ground truth引导下，这个模块利用先前阶段的预测来计算注意力图，然后用注意力图反过来作用到先前阶段的特征图，然后再传入下一个阶段。**\n",
    "\n",
    "![](https://ai-studio-static-online.cdn.bcebos.com/26e7f5b622294b27ae6c4a8f5980bb0ea3d897ce92fe430199e79d528b333a40)\n",
    "\n",
    "\n",
    "#### **3.  一个交叉不同阶段特征的融合机制（CSFF，cross-stage feature fusion），用来帮助从前到后传播多尺度语境特征。此外，这个方法简化了不同阶段间的信息流，更好的优化了网络。**\n",
    "\n",
    "![](https://ai-studio-static-online.cdn.bcebos.com/6328da314b944b66aa0d755b475bb22c6f9c97489edf42f4b7c4a75e6d64a54d)\n",
    "\n",
    "\n",
    "[【摘自博客：(MPRNet)Multi-Stage Progressive Image Restoration】](https://blog.csdn.net/boon_228/article/details/115748742?ops_request_misc=%257B%2522request%255Fid%2522%253A%2522162725960816780271523800%2522%252C%2522scm%2522%253A%252220140713.130102334..%2522%257D&request_id=162725960816780271523800&biz_id=0&utm_medium=distribute.pc_search_result.none-task-blog-2~all~sobaiduend~default-2-115748742.first_rank_v2_pc_rank_v29&utm_term=MPRNet&spm=1018.2226.3001.4187)\n",
    "\n",
    "### 性能展示\n",
    "\n",
    "* #### **与其他模型的比较**\n",
    "\n",
    "![](https://ai-studio-static-online.cdn.bcebos.com/5c619b0545654f94ae635ce676f9b2bc4b2faf7d8d8544d28ec7a716bf70fcf2)\n",
    "\n",
    "\n",
    "* #### **在合成数据集上的效果**\n",
    "\n",
    "![](https://ai-studio-static-online.cdn.bcebos.com/1ef78f20440649e5a04511c5bf9ecfc4e3b84fb4dd9147f2952c9719b20182d1)\n",
    "\n",
    "\n",
    "* #### **在真实数据集上的效果**\n",
    "![](https://ai-studio-static-online.cdn.bcebos.com/05dab79a8e524113970fd430af7af04d33183e38347b46e282c8605a2006e105)\n",
    "\n",
    "\n"
   ]
  },
  {
   "cell_type": "markdown",
   "metadata": {
    "collapsed": false
   },
   "source": [
    "## 数据准备\n",
    "#### **我们准备了GoPro和RealBlur两个在去模糊领域久负盛名的数据集，前者有3000张图，后者有40000张图，都是成对的模糊图像和清晰图像。PaddleGAN提供的MPR预训练模型是在GoPro数据集上面训练和测试出来的。所以我们这次引入RealBlur也是为了提升训练效果，在预训练模型的基础上提高修复性能。**\n",
    "\n",
    "#### **上述的两个数据集我组都已收集完毕，并且公开在AIStudio上了**\n",
    "\n",
    "![](https://ai-studio-static-online.cdn.bcebos.com/ed4aa4d5c93c49a8a10ed7f413bdb67e73496c1bc5c04a168d007c0f453ee4a8)\n"
   ]
  },
  {
   "cell_type": "markdown",
   "metadata": {
    "collapsed": false
   },
   "source": [
    "+ ### **解压数据集**"
   ]
  },
  {
   "cell_type": "code",
   "execution_count": 1,
   "metadata": {
    "collapsed": false
   },
   "outputs": [],
   "source": [
    "# 解压RealBlur数据集用作训练\r\n",
    "%cd ~/data/data100964\r\n",
    "!tar -zxvf BSD_B_Centroid.tar.gz -C ../\r\n",
    "%cd ~/data/BSD_B_Centroid\r\n",
    "# 重命名文件夹【trainer.py中格式要求】\r\n",
    "!mv blur input\r\n",
    "!mv gt target"
   ]
  },
  {
   "cell_type": "code",
   "execution_count": 2,
   "metadata": {
    "collapsed": false
   },
   "outputs": [],
   "source": [
    "# 解压GoPro数据集用作测试\r\n",
    "%cd ~/data\r\n",
    "!mkdir GoPro\r\n",
    "%cd data93209\r\n",
    "!tar -xvf test.tar.xz -C ../GoPro/\r\n",
    "!tar -xvf Gopro.tar.xz -C ../GoPro/\r\n",
    "%cd ~"
   ]
  },
  {
   "cell_type": "markdown",
   "metadata": {
    "collapsed": false
   },
   "source": [
    "## 环境配置"
   ]
  },
  {
   "cell_type": "markdown",
   "metadata": {
    "collapsed": false
   },
   "source": [
    "+ ### **克隆并安装PaddleGAN**"
   ]
  },
  {
   "cell_type": "code",
   "execution_count": null,
   "metadata": {
    "collapsed": false
   },
   "outputs": [
    {
     "name": "stdout",
     "output_type": "stream",
     "text": [
      "/home/aistudio/PaddleGAN\n",
      "Looking in indexes: https://mirror.baidu.com/pypi/simple/\n",
      "Requirement already satisfied: tqdm in /opt/conda/envs/python35-paddle120-env/lib/python3.7/site-packages (from -r requirements.txt (line 1)) (4.36.1)\n",
      "Requirement already satisfied: PyYAML>=5.1 in /opt/conda/envs/python35-paddle120-env/lib/python3.7/site-packages (from -r requirements.txt (line 2)) (5.1.2)\n",
      "Collecting scikit-image>=0.14.0 (from -r requirements.txt (line 3))\n",
      "\u001b[?25l  Downloading https://mirror.baidu.com/pypi/packages/cd/d9/d738fdb4954575fb631b9c7a2eaa59df3ab8b7f3c2fc28a37259a42d8a49/scikit_image-0.18.2-cp37-cp37m-manylinux1_x86_64.whl (29.2MB)\n",
      "\u001b[K     |████████████████████████████████| 29.2MB 9.4MB/s eta 0:00:01    |███▋                            | 3.3MB 6.4MB/s eta 0:00:05\n",
      "\u001b[?25hRequirement already satisfied: scipy>=1.1.0 in /opt/conda/envs/python35-paddle120-env/lib/python3.7/site-packages (from -r requirements.txt (line 4)) (1.6.3)\n",
      "Requirement already satisfied: opencv-python in /opt/conda/envs/python35-paddle120-env/lib/python3.7/site-packages (from -r requirements.txt (line 5)) (4.1.1.26)\n",
      "Requirement already satisfied: imageio-ffmpeg in /opt/conda/envs/python35-paddle120-env/lib/python3.7/site-packages (from -r requirements.txt (line 6)) (0.3.0)\n",
      "Collecting librosa==0.7.0 (from -r requirements.txt (line 7))\n",
      "\u001b[?25l  Downloading https://mirror.baidu.com/pypi/packages/ad/6e/0eb0de1c9c4e02df0b40e56f258eb79bd957be79b918511a184268e01720/librosa-0.7.0.tar.gz (1.6MB)\n",
      "\u001b[K     |████████████████████████████████| 1.6MB 24.0MB/s eta 0:00:01\n",
      "\u001b[?25hRequirement already satisfied: numba==0.48 in /opt/conda/envs/python35-paddle120-env/lib/python3.7/site-packages (from -r requirements.txt (line 8)) (0.48.0)\n",
      "Requirement already satisfied: easydict in /opt/conda/envs/python35-paddle120-env/lib/python3.7/site-packages (from -r requirements.txt (line 9)) (1.9)\n",
      "Collecting munch (from -r requirements.txt (line 10))\n",
      "  Downloading https://mirror.baidu.com/pypi/packages/cc/ab/85d8da5c9a45e072301beb37ad7f833cd344e04c817d97e0cc75681d248f/munch-2.5.0-py2.py3-none-any.whl\n",
      "Collecting natsort (from -r requirements.txt (line 11))\n",
      "  Downloading https://mirror.baidu.com/pypi/packages/63/23/8b6acd2e9c0b427802dd45aacf0b2a0250893c3b26c7b1340589a588cc2a/natsort-7.1.1-py3-none-any.whl\n",
      "Collecting PyWavelets>=1.1.1 (from scikit-image>=0.14.0->-r requirements.txt (line 3))\n",
      "\u001b[?25l  Downloading https://mirror.baidu.com/pypi/packages/62/bd/592c7242fdd1218a96431512e77265c50812315ef72570ace85e1cfae298/PyWavelets-1.1.1-cp37-cp37m-manylinux1_x86_64.whl (4.4MB)\n",
      "\u001b[K     |████████████████████████████████| 4.4MB 13.7MB/s eta 0:00:01\n",
      "\u001b[?25hRequirement already satisfied: numpy>=1.16.5 in /opt/conda/envs/python35-paddle120-env/lib/python3.7/site-packages (from scikit-image>=0.14.0->-r requirements.txt (line 3)) (1.20.3)\n",
      "Requirement already satisfied: imageio>=2.3.0 in /opt/conda/envs/python35-paddle120-env/lib/python3.7/site-packages (from scikit-image>=0.14.0->-r requirements.txt (line 3)) (2.6.1)\n",
      "Requirement already satisfied: matplotlib!=3.0.0,>=2.0.0 in /opt/conda/envs/python35-paddle120-env/lib/python3.7/site-packages (from scikit-image>=0.14.0->-r requirements.txt (line 3)) (2.2.3)\n",
      "Collecting tifffile>=2019.7.26 (from scikit-image>=0.14.0->-r requirements.txt (line 3))\n",
      "\u001b[?25l  Downloading https://mirror.baidu.com/pypi/packages/4f/b5/f668516b0250f1ad1156964bd2d1c6c3aa9f0178107a43fbe3258b0d3189/tifffile-2021.7.2-py3-none-any.whl (169kB)\n",
      "\u001b[K     |████████████████████████████████| 174kB 65.5MB/s eta 0:00:01\n",
      "\u001b[?25hRequirement already satisfied: pillow!=7.1.0,!=7.1.1,>=4.3.0 in /opt/conda/envs/python35-paddle120-env/lib/python3.7/site-packages (from scikit-image>=0.14.0->-r requirements.txt (line 3)) (7.1.2)\n",
      "Requirement already satisfied: networkx>=2.0 in /opt/conda/envs/python35-paddle120-env/lib/python3.7/site-packages (from scikit-image>=0.14.0->-r requirements.txt (line 3)) (2.4)\n",
      "Requirement already satisfied: audioread>=2.0.0 in /opt/conda/envs/python35-paddle120-env/lib/python3.7/site-packages (from librosa==0.7.0->-r requirements.txt (line 7)) (2.1.8)\n",
      "Requirement already satisfied: scikit-learn!=0.19.0,>=0.14.0 in /opt/conda/envs/python35-paddle120-env/lib/python3.7/site-packages (from librosa==0.7.0->-r requirements.txt (line 7)) (0.24.2)\n",
      "Requirement already satisfied: joblib>=0.12 in /opt/conda/envs/python35-paddle120-env/lib/python3.7/site-packages (from librosa==0.7.0->-r requirements.txt (line 7)) (0.14.1)\n",
      "Requirement already satisfied: decorator>=3.0.0 in /opt/conda/envs/python35-paddle120-env/lib/python3.7/site-packages (from librosa==0.7.0->-r requirements.txt (line 7)) (4.4.2)\n",
      "Requirement already satisfied: six>=1.3 in /opt/conda/envs/python35-paddle120-env/lib/python3.7/site-packages (from librosa==0.7.0->-r requirements.txt (line 7)) (1.15.0)\n",
      "Requirement already satisfied: resampy>=0.2.0 in /opt/conda/envs/python35-paddle120-env/lib/python3.7/site-packages (from librosa==0.7.0->-r requirements.txt (line 7)) (0.2.2)\n",
      "Requirement already satisfied: soundfile>=0.9.0 in /opt/conda/envs/python35-paddle120-env/lib/python3.7/site-packages (from librosa==0.7.0->-r requirements.txt (line 7)) (0.10.3.post1)\n",
      "Requirement already satisfied: llvmlite<0.32.0,>=0.31.0dev0 in /opt/conda/envs/python35-paddle120-env/lib/python3.7/site-packages (from numba==0.48->-r requirements.txt (line 8)) (0.31.0)\n",
      "Requirement already satisfied: setuptools in /opt/conda/envs/python35-paddle120-env/lib/python3.7/site-packages (from numba==0.48->-r requirements.txt (line 8)) (56.2.0)\n",
      "Requirement already satisfied: pyparsing!=2.0.4,!=2.1.2,!=2.1.6,>=2.0.1 in /opt/conda/envs/python35-paddle120-env/lib/python3.7/site-packages (from matplotlib!=3.0.0,>=2.0.0->scikit-image>=0.14.0->-r requirements.txt (line 3)) (2.4.2)\n",
      "Requirement already satisfied: python-dateutil>=2.1 in /opt/conda/envs/python35-paddle120-env/lib/python3.7/site-packages (from matplotlib!=3.0.0,>=2.0.0->scikit-image>=0.14.0->-r requirements.txt (line 3)) (2.8.0)\n",
      "Requirement already satisfied: pytz in /opt/conda/envs/python35-paddle120-env/lib/python3.7/site-packages (from matplotlib!=3.0.0,>=2.0.0->scikit-image>=0.14.0->-r requirements.txt (line 3)) (2019.3)\n",
      "Requirement already satisfied: cycler>=0.10 in /opt/conda/envs/python35-paddle120-env/lib/python3.7/site-packages (from matplotlib!=3.0.0,>=2.0.0->scikit-image>=0.14.0->-r requirements.txt (line 3)) (0.10.0)\n",
      "Requirement already satisfied: kiwisolver>=1.0.1 in /opt/conda/envs/python35-paddle120-env/lib/python3.7/site-packages (from matplotlib!=3.0.0,>=2.0.0->scikit-image>=0.14.0->-r requirements.txt (line 3)) (1.1.0)\n",
      "Requirement already satisfied: threadpoolctl>=2.0.0 in /opt/conda/envs/python35-paddle120-env/lib/python3.7/site-packages (from scikit-learn!=0.19.0,>=0.14.0->librosa==0.7.0->-r requirements.txt (line 7)) (2.1.0)\n",
      "Requirement already satisfied: cffi>=1.0 in /opt/conda/envs/python35-paddle120-env/lib/python3.7/site-packages (from soundfile>=0.9.0->librosa==0.7.0->-r requirements.txt (line 7)) (1.14.0)\n",
      "Requirement already satisfied: pycparser in /opt/conda/envs/python35-paddle120-env/lib/python3.7/site-packages (from cffi>=1.0->soundfile>=0.9.0->librosa==0.7.0->-r requirements.txt (line 7)) (2.19)\n",
      "Building wheels for collected packages: librosa\n",
      "  Building wheel for librosa (setup.py) ... \u001b[?25l-Successfully built librosa\n",
      "Installing collected packages: PyWavelets, tifffile, scikit-image, librosa, munch, natsort\n",
      "  Found existing installation: librosa 0.7.2\n",
      "    Uninstalling librosa-0.7.2:\n",
      "      Successfully uninstalled librosa-0.7.2\n",
      "Successfully installed PyWavelets-1.1.1 librosa-0.7.0 munch-2.5.0 natsort-7.1.1 scikit-image-0.18.2 tifffile-2021.7.2\n",
      "running develop\n",
      "running egg_info\n",
      "writing ppgan.egg-info/PKG-INFO\n",
      "writing dependency_links to ppgan.egg-info/dependency_links.txt\n",
      "writing entry points to ppgan.egg-info/entry_points.txt\n",
      "writing requirements to ppgan.egg-info/requires.txt\n",
      "writing top-level names to ppgan.egg-info/top_level.txt\n",
      "adding license file 'LICENSE' (matched pattern 'LICEN[CS]E*')\n",
      "reading manifest file 'ppgan.egg-info/SOURCES.txt'\n",
      "writing manifest file 'ppgan.egg-info/SOURCES.txt'\n",
      "running build_ext\n",
      "Creating /opt/conda/envs/python35-paddle120-env/lib/python3.7/site-packages/ppgan.egg-link (link to .)\n",
      "Adding ppgan 2.0.0 to easy-install.pth file\n",
      "Installing paddlegan script to /opt/conda/envs/python35-paddle120-env/bin\n",
      "\n",
      "Installed /home/aistudio/PaddleGAN\n",
      "Processing dependencies for ppgan==2.0.0\n",
      "Searching for natsort==7.1.1\n",
      "Best match: natsort 7.1.1\n",
      "Adding natsort 7.1.1 to easy-install.pth file\n",
      "Installing natsort script to /opt/conda/envs/python35-paddle120-env/bin\n",
      "\n",
      "Using /opt/conda/envs/python35-paddle120-env/lib/python3.7/site-packages\n",
      "Searching for munch==2.5.0\n",
      "Best match: munch 2.5.0\n",
      "Adding munch 2.5.0 to easy-install.pth file\n",
      "\n",
      "Using /opt/conda/envs/python35-paddle120-env/lib/python3.7/site-packages\n",
      "Searching for easydict==1.9\n",
      "Best match: easydict 1.9\n",
      "Adding easydict 1.9 to easy-install.pth file\n",
      "\n",
      "Using /opt/conda/envs/python35-paddle120-env/lib/python3.7/site-packages\n",
      "Searching for numba==0.48.0\n",
      "Best match: numba 0.48.0\n",
      "Adding numba 0.48.0 to easy-install.pth file\n",
      "\n",
      "Using /opt/conda/envs/python35-paddle120-env/lib/python3.7/site-packages\n",
      "Searching for librosa==0.7.0\n",
      "Best match: librosa 0.7.0\n",
      "Adding librosa 0.7.0 to easy-install.pth file\n",
      "\n",
      "Using /opt/conda/envs/python35-paddle120-env/lib/python3.7/site-packages\n",
      "Searching for imageio-ffmpeg==0.3.0\n",
      "Best match: imageio-ffmpeg 0.3.0\n",
      "Adding imageio-ffmpeg 0.3.0 to easy-install.pth file\n",
      "\n",
      "Using /opt/conda/envs/python35-paddle120-env/lib/python3.7/site-packages\n",
      "Searching for opencv-python==4.1.1.26\n",
      "Best match: opencv-python 4.1.1.26\n",
      "Adding opencv-python 4.1.1.26 to easy-install.pth file\n",
      "\n",
      "Using /opt/conda/envs/python35-paddle120-env/lib/python3.7/site-packages\n",
      "Searching for scipy==1.6.3\n",
      "Best match: scipy 1.6.3\n",
      "Adding scipy 1.6.3 to easy-install.pth file\n",
      "\n",
      "Using /opt/conda/envs/python35-paddle120-env/lib/python3.7/site-packages\n",
      "Searching for scikit-image==0.18.2\n",
      "Best match: scikit-image 0.18.2\n",
      "Adding scikit-image 0.18.2 to easy-install.pth file\n",
      "Installing skivi script to /opt/conda/envs/python35-paddle120-env/bin\n",
      "\n",
      "Using /opt/conda/envs/python35-paddle120-env/lib/python3.7/site-packages\n",
      "Searching for PyYAML==5.1.2\n",
      "Best match: PyYAML 5.1.2\n",
      "Adding PyYAML 5.1.2 to easy-install.pth file\n",
      "\n",
      "Using /opt/conda/envs/python35-paddle120-env/lib/python3.7/site-packages\n",
      "Searching for tqdm==4.36.1\n",
      "Best match: tqdm 4.36.1\n",
      "Adding tqdm 4.36.1 to easy-install.pth file\n",
      "Installing tqdm script to /opt/conda/envs/python35-paddle120-env/bin\n",
      "\n",
      "Using /opt/conda/envs/python35-paddle120-env/lib/python3.7/site-packages\n",
      "Searching for six==1.15.0\n",
      "Best match: six 1.15.0\n",
      "Adding six 1.15.0 to easy-install.pth file\n",
      "\n",
      "Using /opt/conda/envs/python35-paddle120-env/lib/python3.7/site-packages\n",
      "Searching for setuptools==56.2.0\n",
      "Best match: setuptools 56.2.0\n",
      "Adding setuptools 56.2.0 to easy-install.pth file\n",
      "\n",
      "Using /opt/conda/envs/python35-paddle120-env/lib/python3.7/site-packages\n",
      "Searching for llvmlite==0.31.0\n",
      "Best match: llvmlite 0.31.0\n",
      "Adding llvmlite 0.31.0 to easy-install.pth file\n",
      "\n",
      "Using /opt/conda/envs/python35-paddle120-env/lib/python3.7/site-packages\n",
      "Searching for numpy==1.20.3\n",
      "Best match: numpy 1.20.3\n",
      "Adding numpy 1.20.3 to easy-install.pth file\n",
      "Installing f2py script to /opt/conda/envs/python35-paddle120-env/bin\n",
      "Installing f2py3 script to /opt/conda/envs/python35-paddle120-env/bin\n",
      "Installing f2py3.7 script to /opt/conda/envs/python35-paddle120-env/bin\n",
      "\n",
      "Using /opt/conda/envs/python35-paddle120-env/lib/python3.7/site-packages\n",
      "Searching for audioread==2.1.8\n",
      "Best match: audioread 2.1.8\n",
      "Adding audioread 2.1.8 to easy-install.pth file\n",
      "\n",
      "Using /opt/conda/envs/python35-paddle120-env/lib/python3.7/site-packages\n",
      "Searching for SoundFile==0.10.3.post1\n",
      "Best match: SoundFile 0.10.3.post1\n",
      "Adding SoundFile 0.10.3.post1 to easy-install.pth file\n",
      "\n",
      "Using /opt/conda/envs/python35-paddle120-env/lib/python3.7/site-packages\n",
      "Searching for decorator==4.4.2\n",
      "Best match: decorator 4.4.2\n",
      "Adding decorator 4.4.2 to easy-install.pth file\n",
      "\n",
      "Using /opt/conda/envs/python35-paddle120-env/lib/python3.7/site-packages\n",
      "Searching for resampy==0.2.2\n",
      "Best match: resampy 0.2.2\n",
      "Adding resampy 0.2.2 to easy-install.pth file\n",
      "\n",
      "Using /opt/conda/envs/python35-paddle120-env/lib/python3.7/site-packages\n",
      "Searching for scikit-learn==0.24.2\n",
      "Best match: scikit-learn 0.24.2\n",
      "Adding scikit-learn 0.24.2 to easy-install.pth file\n",
      "\n",
      "Using /opt/conda/envs/python35-paddle120-env/lib/python3.7/site-packages\n",
      "Searching for joblib==0.14.1\n",
      "Best match: joblib 0.14.1\n",
      "Adding joblib 0.14.1 to easy-install.pth file\n",
      "\n",
      "Using /opt/conda/envs/python35-paddle120-env/lib/python3.7/site-packages\n",
      "Searching for networkx==2.4\n",
      "Best match: networkx 2.4\n",
      "Adding networkx 2.4 to easy-install.pth file\n",
      "\n",
      "Using /opt/conda/envs/python35-paddle120-env/lib/python3.7/site-packages\n",
      "Searching for PyWavelets==1.1.1\n",
      "Best match: PyWavelets 1.1.1\n",
      "Adding PyWavelets 1.1.1 to easy-install.pth file\n",
      "\n",
      "Using /opt/conda/envs/python35-paddle120-env/lib/python3.7/site-packages\n",
      "Searching for matplotlib==2.2.3\n",
      "Best match: matplotlib 2.2.3\n",
      "Adding matplotlib 2.2.3 to easy-install.pth file\n",
      "\n",
      "Using /opt/conda/envs/python35-paddle120-env/lib/python3.7/site-packages\n",
      "Searching for tifffile==2021.7.2\n",
      "Best match: tifffile 2021.7.2\n",
      "Adding tifffile 2021.7.2 to easy-install.pth file\n",
      "Installing lsm2bin script to /opt/conda/envs/python35-paddle120-env/bin\n",
      "Installing tiff2fsspec script to /opt/conda/envs/python35-paddle120-env/bin\n",
      "Installing tiffcomment script to /opt/conda/envs/python35-paddle120-env/bin\n",
      "Installing tifffile script to /opt/conda/envs/python35-paddle120-env/bin\n",
      "\n",
      "Using /opt/conda/envs/python35-paddle120-env/lib/python3.7/site-packages\n",
      "Searching for imageio==2.6.1\n",
      "Best match: imageio 2.6.1\n",
      "Adding imageio 2.6.1 to easy-install.pth file\n",
      "Installing imageio_download_bin script to /opt/conda/envs/python35-paddle120-env/bin\n",
      "Installing imageio_remove_bin script to /opt/conda/envs/python35-paddle120-env/bin\n",
      "\n",
      "Using /opt/conda/envs/python35-paddle120-env/lib/python3.7/site-packages\n",
      "Searching for Pillow==7.1.2\n",
      "Best match: Pillow 7.1.2\n",
      "Adding Pillow 7.1.2 to easy-install.pth file\n",
      "\n",
      "Using /opt/conda/envs/python35-paddle120-env/lib/python3.7/site-packages\n",
      "Searching for cffi==1.14.0\n",
      "Best match: cffi 1.14.0\n",
      "Adding cffi 1.14.0 to easy-install.pth file\n",
      "\n",
      "Using /opt/conda/envs/python35-paddle120-env/lib/python3.7/site-packages\n",
      "Searching for threadpoolctl==2.1.0\n",
      "Best match: threadpoolctl 2.1.0\n",
      "Adding threadpoolctl 2.1.0 to easy-install.pth file\n",
      "\n",
      "Using /opt/conda/envs/python35-paddle120-env/lib/python3.7/site-packages\n",
      "Searching for python-dateutil==2.8.0\n",
      "Best match: python-dateutil 2.8.0\n",
      "Adding python-dateutil 2.8.0 to easy-install.pth file\n",
      "\n",
      "Using /opt/conda/envs/python35-paddle120-env/lib/python3.7/site-packages\n",
      "Searching for pyparsing==2.4.2\n",
      "Best match: pyparsing 2.4.2\n",
      "Adding pyparsing 2.4.2 to easy-install.pth file\n",
      "\n",
      "Using /opt/conda/envs/python35-paddle120-env/lib/python3.7/site-packages\n",
      "Searching for cycler==0.10.0\n",
      "Best match: cycler 0.10.0\n",
      "Adding cycler 0.10.0 to easy-install.pth file\n",
      "\n",
      "Using /opt/conda/envs/python35-paddle120-env/lib/python3.7/site-packages\n",
      "Searching for kiwisolver==1.1.0\n",
      "Best match: kiwisolver 1.1.0\n",
      "Adding kiwisolver 1.1.0 to easy-install.pth file\n",
      "\n",
      "Using /opt/conda/envs/python35-paddle120-env/lib/python3.7/site-packages\n",
      "Searching for pytz==2019.3\n",
      "Best match: pytz 2019.3\n",
      "Adding pytz 2019.3 to easy-install.pth file\n",
      "\n",
      "Using /opt/conda/envs/python35-paddle120-env/lib/python3.7/site-packages\n",
      "Searching for pycparser==2.19\n",
      "Best match: pycparser 2.19\n",
      "Adding pycparser 2.19 to easy-install.pth file\n",
      "\n",
      "Using /opt/conda/envs/python35-paddle120-env/lib/python3.7/site-packages\n",
      "Finished processing dependencies for ppgan==2.0.0\n"
     ]
    }
   ],
   "source": [
    "#设置全局设备为gpu\r\n",
    "import paddle\r\n",
    "paddle.set_device('gpu')\r\n",
    "#克隆paddleGAN\r\n",
    "# %cd ~\r\n",
    "# !git clone https://hub.fastgit.org/PaddlePaddle/PaddleGAN.git \r\n",
    "%cd ~/PaddleGAN/\r\n",
    "#安装依赖\r\n",
    "!pip install -r requirements.txt -i https://mirror.baidu.com/pypi/simple/ \r\n",
    "!python setup.py develop"
   ]
  },
  {
   "cell_type": "markdown",
   "metadata": {
    "collapsed": false
   },
   "source": [
    "+ ### **导入相关包**"
   ]
  },
  {
   "cell_type": "code",
   "execution_count": 24,
   "metadata": {
    "collapsed": false
   },
   "outputs": [
    {
     "name": "stdout",
     "output_type": "stream",
     "text": [
      "/home/aistudio/PaddleGAN\n"
     ]
    }
   ],
   "source": [
    "%cd ~/PaddleGAN/\r\n",
    "import numpy as np\r\n",
    "import paddle\r\n",
    "import paddle.fluid as fluid\r\n",
    "import matplotlib.pyplot as plt\r\n",
    "import time\r\n",
    "import pandas\r\n",
    "import os\r\n",
    "import ppgan\r\n",
    "import ppgan.models.backbones #主干网络\r\n",
    "import ppgan.engine #训练工具\r\n",
    "import ppgan.utils #工具\r\n",
    "from ppgan.models.generators.mpr import MPRNet #MPR生成器\r\n",
    "from ppgan.datasets.mpr_dataset import MPRTrain,MPRVal,MPRTest #数据集处理\r\n",
    "from ppgan.models.mpr_model import MPRModel #model\r\n",
    "from paddle.vision.transforms import Pad  #transform\r\n",
    "import paddle.static as static"
   ]
  },
  {
   "cell_type": "markdown",
   "metadata": {
    "collapsed": false
   },
   "source": [
    "## 模型训练\n"
   ]
  },
  {
   "cell_type": "code",
   "execution_count": 6,
   "metadata": {
    "collapsed": false
   },
   "outputs": [],
   "source": [
    "%cd ~/PaddleGAN/\r\n",
    "#单卡训练：\r\n",
    "!python -u tools/main.py --config-file ~/work/mprnet_deblurring.yaml\r\n",
    "#多卡训练：\r\n",
    "# !CUDA_VISIBLE_DEVICES=0,1 python -m paddle.distributed.launch tools/main.py --config-file ~/work/mprnet_deblurring.yaml"
   ]
  },
  {
   "cell_type": "markdown",
   "metadata": {
    "collapsed": false
   },
   "source": [
    "## 模型保存"
   ]
  },
  {
   "cell_type": "code",
   "execution_count": 36,
   "metadata": {
    "collapsed": false
   },
   "outputs": [
    {
     "name": "stdout",
     "output_type": "stream",
     "text": [
      "/home/aistudio/work/models\n"
     ]
    }
   ],
   "source": [
    "%cd ~/work/models\r\n",
    "path1 = \"./pro1.pdparams\"\r\n",
    "path2 = \"./pm.pdmodel\"\r\n",
    "# prog = static.default_main_program\r\n",
    "load_state_dict = paddle.load(path1)\r\n",
    "paddle.save(load_state_dict, path2)"
   ]
  },
  {
   "cell_type": "markdown",
   "metadata": {
    "collapsed": false
   },
   "source": [
    "## 模型预测\n",
    "\n",
    "#### 这里我们已经为大家准备好了训练过的模型pro1.pdparams\n",
    "### **预测效果展示:**\n",
    "#### **原图：**\n",
    "\n",
    "![](https://ai-studio-static-online.cdn.bcebos.com/b83e062a7930490caf8215837c470125e530d70d4ed04998a2c1d9eb57d3852d)\n",
    "![](https://ai-studio-static-online.cdn.bcebos.com/0b6085c6eda44c4f8fb1f8efecd9a18516aae4adff7546bd80961362a5511dfa)\n",
    "\n",
    "\n",
    "#### **效果图:**\n",
    "![](https://ai-studio-static-online.cdn.bcebos.com/2b3a10be2fbf43bbb4f783b9fff4c656466e5e04d4764de3bbf6e91a62531d91)\n",
    "![](https://ai-studio-static-online.cdn.bcebos.com/1731efe93a96401db5072265e2e60111829b2f6ff62b4ff980158ea13bd52de0)\n",
    "\n",
    "\n",
    "【目前训练效果还需要加强，部分图效果还不够理想，希望能在下一阶段中继续训练完善】"
   ]
  },
  {
   "cell_type": "code",
   "execution_count": 2,
   "metadata": {
    "collapsed": false
   },
   "outputs": [
    {
     "name": "stdout",
     "output_type": "stream",
     "text": [
      "/home/aistudio/PaddleGAN\n"
     ]
    },
    {
     "name": "stderr",
     "output_type": "stream",
     "text": [
      "100%|██████████| 4/4 [00:02<00:00,  1.66it/s]"
     ]
    },
    {
     "name": "stdout",
     "output_type": "stream",
     "text": [
      "Done, output path is: ../predict/output/Deblurring\n"
     ]
    },
    {
     "name": "stderr",
     "output_type": "stream",
     "text": [
      "\n"
     ]
    }
   ],
   "source": [
    "%cd ~/PaddleGAN/\r\n",
    "from ppgan.apps.mpr_predictor import MPRPredictor \r\n",
    "#参数设置：\r\n",
    "output_path='../predict/output'   #存放图片的输出目录路径\r\n",
    "images_path='../predict/input'\r\n",
    "# weight_path=None           #设为none则代表使用预训练模型\r\n",
    "weight_path='../work/models/pro1.pdparams'\r\n",
    "\r\n",
    "#模型预测：\r\n",
    "deblur_moudle = MPRPredictor(images_path=images_path,\r\n",
    "                 output_path=output_path,\r\n",
    "                 weight_path=weight_path,\r\n",
    "                 seed=None,\r\n",
    "                 task='Deblurring')\r\n",
    "# image_list = deblur_moudle.get_images(images_path)\r\n",
    "# deblur_moudle.read_image(image_list[2])\r\n",
    "deblur_moudle.run()"
   ]
  },
  {
   "cell_type": "markdown",
   "metadata": {
    "collapsed": false
   },
   "source": [
    "### **阶段计划：**\n",
    "* ####  **实现去模糊系统功能 √**\n",
    "*  ####  **合上接口，上线网页版 √**\n",
    "+ ####  **公布Gitub上完整源码  √(待更新)**\n",
    "+ ####  **完善网页版的即时摄像功能 ×(待测试)**\n",
    "+ ####  **上线APP版本 ×(待测试)**\n"
   ]
  }
 ],
 "metadata": {
  "kernelspec": {
   "display_name": "PaddlePaddle 2.1.0 (Python 3.5)",
   "language": "python",
   "name": "py35-paddle1.2.0"
  },
  "language_info": {
   "codemirror_mode": {
    "name": "ipython",
    "version": 3
   },
   "file_extension": ".py",
   "mimetype": "text/x-python",
   "name": "python",
   "nbconvert_exporter": "python",
   "pygments_lexer": "ipython3",
   "version": "3.7.4"
  }
 },
 "nbformat": 4,
 "nbformat_minor": 1
}
